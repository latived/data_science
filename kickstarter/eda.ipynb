{
 "cells": [
  {
   "cell_type": "markdown",
   "metadata": {},
   "source": [
    "Source: https://www.kaggle.com/kabure/kickstarter-projects-eda-stat-tests-pipeline"
   ]
  },
  {
   "cell_type": "code",
   "execution_count": 1,
   "metadata": {},
   "outputs": [
    {
     "data": {
      "text/html": [
       "        <script type=\"text/javascript\">\n",
       "        window.PlotlyConfig = {MathJaxConfig: 'local'};\n",
       "        if (window.MathJax) {MathJax.Hub.Config({SVG: {font: \"STIX-Web\"}});}\n",
       "        if (typeof require !== 'undefined') {\n",
       "        require.undef(\"plotly\");\n",
       "        requirejs.config({\n",
       "            paths: {\n",
       "                'plotly': ['https://cdn.plot.ly/plotly-latest.min']\n",
       "            }\n",
       "        });\n",
       "        require(['plotly'], function(Plotly) {\n",
       "            window._Plotly = Plotly;\n",
       "        });\n",
       "        }\n",
       "        </script>\n",
       "        "
      ]
     },
     "metadata": {},
     "output_type": "display_data"
    }
   ],
   "source": [
    "#Load the Librarys\n",
    "import pandas as pd\n",
    "import numpy as np\n",
    "import seaborn as sns\n",
    "import matplotlib.pyplot as plt\n",
    "from scipy import stats\n",
    "\n",
    "import plotly\n",
    "import plotly.tools as tls\n",
    "import plotly.offline as py\n",
    "import plotly.graph_objs as go\n",
    "from plotly.offline import init_notebook_mode, iplot, plot\n",
    "init_notebook_mode(connected=True)\n",
    "\n",
    "import warnings\n",
    "from collections import Counter\n",
    "\n",
    "%load_ext autoreload\n",
    "%autoreload 2"
   ]
  },
  {
   "cell_type": "code",
   "execution_count": 2,
   "metadata": {},
   "outputs": [],
   "source": [
    "ks = pd.read_csv('../../../datasets/ks-projects-201801.csv')\n",
    "ks = ks.sample(1000, random_state=42).reset_index().drop('index', axis=1)"
   ]
  },
  {
   "cell_type": "code",
   "execution_count": 3,
   "metadata": {},
   "outputs": [
    {
     "name": "stdout",
     "output_type": "stream",
     "text": [
      "Dataset Shape: (1000, 15)\n"
     ]
    },
    {
     "data": {
      "text/html": [
       "<div>\n",
       "<style scoped>\n",
       "    .dataframe tbody tr th:only-of-type {\n",
       "        vertical-align: middle;\n",
       "    }\n",
       "\n",
       "    .dataframe tbody tr th {\n",
       "        vertical-align: top;\n",
       "    }\n",
       "\n",
       "    .dataframe thead th {\n",
       "        text-align: right;\n",
       "    }\n",
       "</style>\n",
       "<table border=\"1\" class=\"dataframe\">\n",
       "  <thead>\n",
       "    <tr style=\"text-align: right;\">\n",
       "      <th></th>\n",
       "      <th>Name</th>\n",
       "      <th>dtypes</th>\n",
       "      <th>Missing</th>\n",
       "      <th>Uniques</th>\n",
       "      <th>First Value</th>\n",
       "      <th>Second Value</th>\n",
       "      <th>Third Value</th>\n",
       "      <th>Entropy</th>\n",
       "    </tr>\n",
       "  </thead>\n",
       "  <tbody>\n",
       "    <tr>\n",
       "      <td>0</td>\n",
       "      <td>ID</td>\n",
       "      <td>int64</td>\n",
       "      <td>0</td>\n",
       "      <td>1000</td>\n",
       "      <td>1576537356</td>\n",
       "      <td>675907016</td>\n",
       "      <td>361890770</td>\n",
       "      <td>9.97</td>\n",
       "    </tr>\n",
       "    <tr>\n",
       "      <td>1</td>\n",
       "      <td>name</td>\n",
       "      <td>object</td>\n",
       "      <td>0</td>\n",
       "      <td>1000</td>\n",
       "      <td>Deko</td>\n",
       "      <td>Westside BJ's: The Gluten-Free, Organic Food T...</td>\n",
       "      <td>Crepe Diem Food Truck</td>\n",
       "      <td>9.97</td>\n",
       "    </tr>\n",
       "    <tr>\n",
       "      <td>2</td>\n",
       "      <td>category</td>\n",
       "      <td>object</td>\n",
       "      <td>0</td>\n",
       "      <td>119</td>\n",
       "      <td>Hardware</td>\n",
       "      <td>Food Trucks</td>\n",
       "      <td>Food</td>\n",
       "      <td>6.12</td>\n",
       "    </tr>\n",
       "    <tr>\n",
       "      <td>3</td>\n",
       "      <td>main_category</td>\n",
       "      <td>object</td>\n",
       "      <td>0</td>\n",
       "      <td>15</td>\n",
       "      <td>Technology</td>\n",
       "      <td>Food</td>\n",
       "      <td>Food</td>\n",
       "      <td>3.53</td>\n",
       "    </tr>\n",
       "    <tr>\n",
       "      <td>4</td>\n",
       "      <td>currency</td>\n",
       "      <td>object</td>\n",
       "      <td>0</td>\n",
       "      <td>11</td>\n",
       "      <td>USD</td>\n",
       "      <td>USD</td>\n",
       "      <td>USD</td>\n",
       "      <td>1.20</td>\n",
       "    </tr>\n",
       "    <tr>\n",
       "      <td>5</td>\n",
       "      <td>deadline</td>\n",
       "      <td>object</td>\n",
       "      <td>0</td>\n",
       "      <td>819</td>\n",
       "      <td>2015-10-24</td>\n",
       "      <td>2015-02-01</td>\n",
       "      <td>2014-01-17</td>\n",
       "      <td>9.59</td>\n",
       "    </tr>\n",
       "    <tr>\n",
       "      <td>6</td>\n",
       "      <td>goal</td>\n",
       "      <td>float64</td>\n",
       "      <td>0</td>\n",
       "      <td>203</td>\n",
       "      <td>70000</td>\n",
       "      <td>250000</td>\n",
       "      <td>30000</td>\n",
       "      <td>6.12</td>\n",
       "    </tr>\n",
       "    <tr>\n",
       "      <td>7</td>\n",
       "      <td>launched</td>\n",
       "      <td>object</td>\n",
       "      <td>0</td>\n",
       "      <td>1000</td>\n",
       "      <td>2015-09-24 03:12:52</td>\n",
       "      <td>2015-01-02 20:55:07</td>\n",
       "      <td>2013-12-18 03:26:04</td>\n",
       "      <td>9.97</td>\n",
       "    </tr>\n",
       "    <tr>\n",
       "      <td>8</td>\n",
       "      <td>pledged</td>\n",
       "      <td>float64</td>\n",
       "      <td>0</td>\n",
       "      <td>645</td>\n",
       "      <td>1888</td>\n",
       "      <td>1466</td>\n",
       "      <td>5723</td>\n",
       "      <td>8.14</td>\n",
       "    </tr>\n",
       "    <tr>\n",
       "      <td>9</td>\n",
       "      <td>state</td>\n",
       "      <td>object</td>\n",
       "      <td>0</td>\n",
       "      <td>6</td>\n",
       "      <td>failed</td>\n",
       "      <td>failed</td>\n",
       "      <td>failed</td>\n",
       "      <td>1.53</td>\n",
       "    </tr>\n",
       "    <tr>\n",
       "      <td>10</td>\n",
       "      <td>backers</td>\n",
       "      <td>int64</td>\n",
       "      <td>0</td>\n",
       "      <td>222</td>\n",
       "      <td>41</td>\n",
       "      <td>9</td>\n",
       "      <td>90</td>\n",
       "      <td>6.07</td>\n",
       "    </tr>\n",
       "    <tr>\n",
       "      <td>11</td>\n",
       "      <td>country</td>\n",
       "      <td>object</td>\n",
       "      <td>0</td>\n",
       "      <td>19</td>\n",
       "      <td>US</td>\n",
       "      <td>US</td>\n",
       "      <td>US</td>\n",
       "      <td>1.36</td>\n",
       "    </tr>\n",
       "    <tr>\n",
       "      <td>12</td>\n",
       "      <td>usd pledged</td>\n",
       "      <td>float64</td>\n",
       "      <td>5</td>\n",
       "      <td>665</td>\n",
       "      <td>1888</td>\n",
       "      <td>1466</td>\n",
       "      <td>5723</td>\n",
       "      <td>8.00</td>\n",
       "    </tr>\n",
       "    <tr>\n",
       "      <td>13</td>\n",
       "      <td>usd_pledged_real</td>\n",
       "      <td>float64</td>\n",
       "      <td>0</td>\n",
       "      <td>711</td>\n",
       "      <td>1888</td>\n",
       "      <td>1466</td>\n",
       "      <td>5723</td>\n",
       "      <td>8.38</td>\n",
       "    </tr>\n",
       "    <tr>\n",
       "      <td>14</td>\n",
       "      <td>usd_goal_real</td>\n",
       "      <td>float64</td>\n",
       "      <td>0</td>\n",
       "      <td>382</td>\n",
       "      <td>70000</td>\n",
       "      <td>250000</td>\n",
       "      <td>30000</td>\n",
       "      <td>7.12</td>\n",
       "    </tr>\n",
       "  </tbody>\n",
       "</table>\n",
       "</div>"
      ],
      "text/plain": [
       "                Name   dtypes  Missing  Uniques          First Value  \\\n",
       "0                 ID    int64        0     1000           1576537356   \n",
       "1               name   object        0     1000                 Deko   \n",
       "2           category   object        0      119             Hardware   \n",
       "3      main_category   object        0       15           Technology   \n",
       "4           currency   object        0       11                  USD   \n",
       "5           deadline   object        0      819           2015-10-24   \n",
       "6               goal  float64        0      203                70000   \n",
       "7           launched   object        0     1000  2015-09-24 03:12:52   \n",
       "8            pledged  float64        0      645                 1888   \n",
       "9              state   object        0        6               failed   \n",
       "10           backers    int64        0      222                   41   \n",
       "11           country   object        0       19                   US   \n",
       "12       usd pledged  float64        5      665                 1888   \n",
       "13  usd_pledged_real  float64        0      711                 1888   \n",
       "14     usd_goal_real  float64        0      382                70000   \n",
       "\n",
       "                                         Second Value            Third Value  \\\n",
       "0                                           675907016              361890770   \n",
       "1   Westside BJ's: The Gluten-Free, Organic Food T...  Crepe Diem Food Truck   \n",
       "2                                         Food Trucks                   Food   \n",
       "3                                                Food                   Food   \n",
       "4                                                 USD                    USD   \n",
       "5                                          2015-02-01             2014-01-17   \n",
       "6                                              250000                  30000   \n",
       "7                                 2015-01-02 20:55:07    2013-12-18 03:26:04   \n",
       "8                                                1466                   5723   \n",
       "9                                              failed                 failed   \n",
       "10                                                  9                     90   \n",
       "11                                                 US                     US   \n",
       "12                                               1466                   5723   \n",
       "13                                               1466                   5723   \n",
       "14                                             250000                  30000   \n",
       "\n",
       "    Entropy  \n",
       "0      9.97  \n",
       "1      9.97  \n",
       "2      6.12  \n",
       "3      3.53  \n",
       "4      1.20  \n",
       "5      9.59  \n",
       "6      6.12  \n",
       "7      9.97  \n",
       "8      8.14  \n",
       "9      1.53  \n",
       "10     6.07  \n",
       "11     1.36  \n",
       "12     8.00  \n",
       "13     8.38  \n",
       "14     7.12  "
      ]
     },
     "execution_count": 3,
     "metadata": {},
     "output_type": "execute_result"
    }
   ],
   "source": [
    "from utils import *\n",
    "resumetable(ks)"
   ]
  },
  {
   "cell_type": "code",
   "execution_count": 4,
   "metadata": {},
   "outputs": [
    {
     "data": {
      "text/html": [
       "<div>\n",
       "<style scoped>\n",
       "    .dataframe tbody tr th:only-of-type {\n",
       "        vertical-align: middle;\n",
       "    }\n",
       "\n",
       "    .dataframe tbody tr th {\n",
       "        vertical-align: top;\n",
       "    }\n",
       "\n",
       "    .dataframe thead th {\n",
       "        text-align: right;\n",
       "    }\n",
       "</style>\n",
       "<table border=\"1\" class=\"dataframe\">\n",
       "  <thead>\n",
       "    <tr style=\"text-align: right;\">\n",
       "      <th></th>\n",
       "      <th>ID</th>\n",
       "      <th>name</th>\n",
       "      <th>category</th>\n",
       "      <th>main_category</th>\n",
       "      <th>currency</th>\n",
       "      <th>deadline</th>\n",
       "      <th>goal</th>\n",
       "      <th>launched</th>\n",
       "      <th>pledged</th>\n",
       "      <th>state</th>\n",
       "      <th>backers</th>\n",
       "      <th>country</th>\n",
       "      <th>usd pledged</th>\n",
       "      <th>usd_pledged_real</th>\n",
       "      <th>usd_goal_real</th>\n",
       "    </tr>\n",
       "  </thead>\n",
       "  <tbody>\n",
       "    <tr>\n",
       "      <td>0</td>\n",
       "      <td>1576537356</td>\n",
       "      <td>Deko</td>\n",
       "      <td>Hardware</td>\n",
       "      <td>Technology</td>\n",
       "      <td>USD</td>\n",
       "      <td>2015-10-24</td>\n",
       "      <td>70000.0</td>\n",
       "      <td>2015-09-24 03:12:52</td>\n",
       "      <td>1888.0</td>\n",
       "      <td>failed</td>\n",
       "      <td>41</td>\n",
       "      <td>US</td>\n",
       "      <td>1888.00</td>\n",
       "      <td>1888.00</td>\n",
       "      <td>70000.00</td>\n",
       "    </tr>\n",
       "    <tr>\n",
       "      <td>1</td>\n",
       "      <td>675907016</td>\n",
       "      <td>Westside BJ's: The Gluten-Free, Organic Food T...</td>\n",
       "      <td>Food Trucks</td>\n",
       "      <td>Food</td>\n",
       "      <td>USD</td>\n",
       "      <td>2015-02-01</td>\n",
       "      <td>250000.0</td>\n",
       "      <td>2015-01-02 20:55:07</td>\n",
       "      <td>1466.0</td>\n",
       "      <td>failed</td>\n",
       "      <td>9</td>\n",
       "      <td>US</td>\n",
       "      <td>1466.00</td>\n",
       "      <td>1466.00</td>\n",
       "      <td>250000.00</td>\n",
       "    </tr>\n",
       "    <tr>\n",
       "      <td>2</td>\n",
       "      <td>361890770</td>\n",
       "      <td>Crepe Diem Food Truck</td>\n",
       "      <td>Food</td>\n",
       "      <td>Food</td>\n",
       "      <td>USD</td>\n",
       "      <td>2014-01-17</td>\n",
       "      <td>30000.0</td>\n",
       "      <td>2013-12-18 03:26:04</td>\n",
       "      <td>5723.0</td>\n",
       "      <td>failed</td>\n",
       "      <td>90</td>\n",
       "      <td>US</td>\n",
       "      <td>5723.00</td>\n",
       "      <td>5723.00</td>\n",
       "      <td>30000.00</td>\n",
       "    </tr>\n",
       "    <tr>\n",
       "      <td>3</td>\n",
       "      <td>1225211551</td>\n",
       "      <td>Season's End - A horror novel ready for public...</td>\n",
       "      <td>Fiction</td>\n",
       "      <td>Publishing</td>\n",
       "      <td>GBP</td>\n",
       "      <td>2016-11-23</td>\n",
       "      <td>5500.0</td>\n",
       "      <td>2016-10-24 15:44:36</td>\n",
       "      <td>25.0</td>\n",
       "      <td>failed</td>\n",
       "      <td>2</td>\n",
       "      <td>GB</td>\n",
       "      <td>23.24</td>\n",
       "      <td>31.09</td>\n",
       "      <td>6839.01</td>\n",
       "    </tr>\n",
       "    <tr>\n",
       "      <td>4</td>\n",
       "      <td>2122944289</td>\n",
       "      <td>Colorado City Arizona Restaurant (Canceled)</td>\n",
       "      <td>Restaurants</td>\n",
       "      <td>Food</td>\n",
       "      <td>USD</td>\n",
       "      <td>2015-05-13</td>\n",
       "      <td>30000.0</td>\n",
       "      <td>2015-03-14 05:18:34</td>\n",
       "      <td>100.0</td>\n",
       "      <td>canceled</td>\n",
       "      <td>3</td>\n",
       "      <td>US</td>\n",
       "      <td>100.00</td>\n",
       "      <td>100.00</td>\n",
       "      <td>30000.00</td>\n",
       "    </tr>\n",
       "  </tbody>\n",
       "</table>\n",
       "</div>"
      ],
      "text/plain": [
       "           ID                                               name     category  \\\n",
       "0  1576537356                                               Deko     Hardware   \n",
       "1   675907016  Westside BJ's: The Gluten-Free, Organic Food T...  Food Trucks   \n",
       "2   361890770                              Crepe Diem Food Truck         Food   \n",
       "3  1225211551  Season's End - A horror novel ready for public...      Fiction   \n",
       "4  2122944289        Colorado City Arizona Restaurant (Canceled)  Restaurants   \n",
       "\n",
       "  main_category currency    deadline      goal             launched  pledged  \\\n",
       "0    Technology      USD  2015-10-24   70000.0  2015-09-24 03:12:52   1888.0   \n",
       "1          Food      USD  2015-02-01  250000.0  2015-01-02 20:55:07   1466.0   \n",
       "2          Food      USD  2014-01-17   30000.0  2013-12-18 03:26:04   5723.0   \n",
       "3    Publishing      GBP  2016-11-23    5500.0  2016-10-24 15:44:36     25.0   \n",
       "4          Food      USD  2015-05-13   30000.0  2015-03-14 05:18:34    100.0   \n",
       "\n",
       "      state  backers country  usd pledged  usd_pledged_real  usd_goal_real  \n",
       "0    failed       41      US      1888.00           1888.00       70000.00  \n",
       "1    failed        9      US      1466.00           1466.00      250000.00  \n",
       "2    failed       90      US      5723.00           5723.00       30000.00  \n",
       "3    failed        2      GB        23.24             31.09        6839.01  \n",
       "4  canceled        3      US       100.00            100.00       30000.00  "
      ]
     },
     "execution_count": 4,
     "metadata": {},
     "output_type": "execute_result"
    }
   ],
   "source": [
    "ks.head()"
   ]
  },
  {
   "cell_type": "code",
   "execution_count": 4,
   "metadata": {},
   "outputs": [
    {
     "data": {
      "image/png": "[encoded data removed]",
      "text/plain": [
       "<Figure size 432x288 with 1 Axes>"
      ]
     },
     "metadata": {
      "needs_background": "light"
     },
     "output_type": "display_data"
    }
   ],
   "source": [
    "import matplotlib.pyplot as plt\n",
    "%matplotlib inline\n",
    "\n",
    "state = round(ks[\"state\"].value_counts() / len(ks[\"state\"]) * 100, 2)\n",
    "labels = list(state.index)\n",
    "values = list(state.values)\n",
    "\n",
    "plt.bar(values, labels, color=(0.2, 0.4, 0.6, 0.6))\n",
    "plt.show()"
   ]
  },
  {
   "cell_type": "code",
   "execution_count": 21,
   "metadata": {},
   "outputs": [
    {
     "data": {
      "text/plain": [
       "state\n",
       "canceled      109\n",
       "failed        512\n",
       "live            9\n",
       "successful    357\n",
       "suspended       8\n",
       "undefined       5\n",
       "Name: ID, dtype: int64"
      ]
     },
     "execution_count": 21,
     "metadata": {},
     "output_type": "execute_result"
    }
   ],
   "source": [
    "ks.groupby('state')['ID'].count()"
   ]
  },
  {
   "cell_type": "code",
   "execution_count": 5,
   "metadata": {},
   "outputs": [],
   "source": [
    "ks = ks.loc[ks['state'].isin(['failed','successful'])]"
   ]
  },
  {
   "cell_type": "code",
   "execution_count": 24,
   "metadata": {},
   "outputs": [
    {
     "data": {
      "text/plain": [
       "state\n",
       "failed        512\n",
       "successful    357\n",
       "Name: ID, dtype: int64"
      ]
     },
     "execution_count": 24,
     "metadata": {},
     "output_type": "execute_result"
    }
   ],
   "source": [
    "ks.groupby('state')['ID'].count()"
   ]
  },
  {
   "cell_type": "code",
   "execution_count": 26,
   "metadata": {},
   "outputs": [
    {
     "name": "stdout",
     "output_type": "stream",
     "text": [
      "(512, 15)\n",
      "(357, 15)\n"
     ]
    }
   ],
   "source": [
    "ks_failed = ks[ks.state == 'failed']\n",
    "ks_successful = ks[ks.state == 'successful']\n",
    "\n",
    "print(ks_failed.shape)\n",
    "print(ks_successful.shape)"
   ]
  },
  {
   "cell_type": "code",
   "execution_count": 30,
   "metadata": {},
   "outputs": [
    {
     "data": {
      "text/plain": [
       "<seaborn.axisgrid.PairGrid at 0x7f3029ac26d0>"
      ]
     },
     "execution_count": 30,
     "metadata": {},
     "output_type": "execute_result"
    },
    {
     "data": {
      "image/png": "[encoded data removed]",
      "text/plain": [
       "<Figure size 456.85x360 with 6 Axes>"
      ]
     },
     "metadata": {},
     "output_type": "display_data"
    }
   ],
   "source": [
    "import seaborn as sns\n",
    "sns.set(style='ticks')\n",
    "\n",
    "sns.pairplot(ks[['usd_pledged_real', 'usd_goal_real', 'state']], hue='state')"
   ]
  },
  {
   "cell_type": "code",
   "execution_count": 31,
   "metadata": {},
   "outputs": [
    {
     "data": {
      "text/plain": [
       "<matplotlib.axes._subplots.AxesSubplot at 0x7f301de646d0>"
      ]
     },
     "execution_count": 31,
     "metadata": {},
     "output_type": "execute_result"
    },
    {
     "data": {
      "image/png": "[encoded data removed]",
      "text/plain": [
       "<Figure size 432x288 with 1 Axes>"
      ]
     },
     "metadata": {},
     "output_type": "display_data"
    }
   ],
   "source": [
    "sns.boxplot(x=ks.usd_goal_real)"
   ]
  },
  {
   "cell_type": "code",
   "execution_count": 33,
   "metadata": {},
   "outputs": [
    {
     "name": "stdout",
     "output_type": "stream",
     "text": [
      "13000.0\n"
     ]
    }
   ],
   "source": [
    "Q1 = ks.usd_goal_real.quantile(0.25)\n",
    "Q3 = ks.usd_goal_real.quantile(0.75)\n",
    "IQR = Q3 - Q1\n",
    "print(IQR)\n",
    "\n",
    "ks = ks[ks.usd_goal_real < IQR]"
   ]
  },
  {
   "cell_type": "code",
   "execution_count": 34,
   "metadata": {},
   "outputs": [
    {
     "data": {
      "text/plain": [
       "<seaborn.axisgrid.PairGrid at 0x7f301ddd0b50>"
      ]
     },
     "execution_count": 34,
     "metadata": {},
     "output_type": "execute_result"
    },
    {
     "data": {
      "image/png": "[encoded data removed]",
      "text/plain": [
       "<Figure size 456.85x360 with 6 Axes>"
      ]
     },
     "metadata": {},
     "output_type": "display_data"
    }
   ],
   "source": [
    "sns.pairplot(ks[['usd_pledged_real', 'usd_goal_real', 'state']], hue='state')"
   ]
  },
  {
   "cell_type": "code",
   "execution_count": 35,
   "metadata": {},
   "outputs": [
    {
     "data": {
      "text/plain": [
       "<matplotlib.axes._subplots.AxesSubplot at 0x7f301dd3cb50>"
      ]
     },
     "execution_count": 35,
     "metadata": {},
     "output_type": "execute_result"
    },
    {
     "data": {
      "image/png": "[encoded data removed]",
      "text/plain": [
       "<Figure size 432x288 with 1 Axes>"
      ]
     },
     "metadata": {},
     "output_type": "display_data"
    }
   ],
   "source": [
    "sns.boxplot(x=ks.usd_pledged_real)"
   ]
  },
  {
   "cell_type": "code",
   "execution_count": 36,
   "metadata": {},
   "outputs": [
    {
     "name": "stdout",
     "output_type": "stream",
     "text": [
      "3671.7275\n"
     ]
    }
   ],
   "source": [
    "Q1 = ks.usd_pledged_real.quantile(0.25)\n",
    "Q3 = ks.usd_pledged_real.quantile(0.75)\n",
    "IQR = Q3 - Q1\n",
    "print(IQR)\n",
    "\n",
    "ks = ks[ks.usd_pledged_real < IQR]"
   ]
  },
  {
   "cell_type": "code",
   "execution_count": 37,
   "metadata": {},
   "outputs": [
    {
     "data": {
      "text/plain": [
       "<seaborn.axisgrid.PairGrid at 0x7f301db8add0>"
      ]
     },
     "execution_count": 37,
     "metadata": {},
     "output_type": "execute_result"
    },
    {
     "data": {
      "image/png": "[encoded data removed]",
      "text/plain": [
       "<Figure size 456.85x360 with 6 Axes>"
      ]
     },
     "metadata": {},
     "output_type": "display_data"
    }
   ],
   "source": [
    "sns.pairplot(ks[['usd_pledged_real', 'usd_goal_real', 'state']], hue='state')"
   ]
  },
  {
   "cell_type": "markdown",
   "metadata": {},
   "source": [
    "---"
   ]
  },
  {
   "cell_type": "code",
   "execution_count": 137,
   "metadata": {},
   "outputs": [
    {
     "data": {
      "text/html": [
       "<div>\n",
       "<style scoped>\n",
       "    .dataframe tbody tr th:only-of-type {\n",
       "        vertical-align: middle;\n",
       "    }\n",
       "\n",
       "    .dataframe tbody tr th {\n",
       "        vertical-align: top;\n",
       "    }\n",
       "\n",
       "    .dataframe thead th {\n",
       "        text-align: right;\n",
       "    }\n",
       "</style>\n",
       "<table border=\"1\" class=\"dataframe\">\n",
       "  <thead>\n",
       "    <tr style=\"text-align: right;\">\n",
       "      <th></th>\n",
       "      <th>ID</th>\n",
       "      <th>name</th>\n",
       "      <th>category</th>\n",
       "      <th>main_category</th>\n",
       "      <th>currency</th>\n",
       "      <th>deadline</th>\n",
       "      <th>goal</th>\n",
       "      <th>launched</th>\n",
       "      <th>pledged</th>\n",
       "      <th>state</th>\n",
       "      <th>backers</th>\n",
       "      <th>country</th>\n",
       "      <th>usd pledged</th>\n",
       "      <th>usd_pledged_real</th>\n",
       "      <th>usd_goal_real</th>\n",
       "    </tr>\n",
       "  </thead>\n",
       "  <tbody>\n",
       "    <tr>\n",
       "      <td>0</td>\n",
       "      <td>1576537356</td>\n",
       "      <td>Deko</td>\n",
       "      <td>Hardware</td>\n",
       "      <td>Technology</td>\n",
       "      <td>USD</td>\n",
       "      <td>2015-10-24</td>\n",
       "      <td>70000.0</td>\n",
       "      <td>2015-09-24 03:12:52</td>\n",
       "      <td>1888.0</td>\n",
       "      <td>failed</td>\n",
       "      <td>41</td>\n",
       "      <td>US</td>\n",
       "      <td>1888.00</td>\n",
       "      <td>1888.00</td>\n",
       "      <td>70000.00</td>\n",
       "    </tr>\n",
       "    <tr>\n",
       "      <td>1</td>\n",
       "      <td>675907016</td>\n",
       "      <td>Westside BJ's: The Gluten-Free, Organic Food T...</td>\n",
       "      <td>Food Trucks</td>\n",
       "      <td>Food</td>\n",
       "      <td>USD</td>\n",
       "      <td>2015-02-01</td>\n",
       "      <td>250000.0</td>\n",
       "      <td>2015-01-02 20:55:07</td>\n",
       "      <td>1466.0</td>\n",
       "      <td>failed</td>\n",
       "      <td>9</td>\n",
       "      <td>US</td>\n",
       "      <td>1466.00</td>\n",
       "      <td>1466.00</td>\n",
       "      <td>250000.00</td>\n",
       "    </tr>\n",
       "    <tr>\n",
       "      <td>2</td>\n",
       "      <td>361890770</td>\n",
       "      <td>Crepe Diem Food Truck</td>\n",
       "      <td>Food</td>\n",
       "      <td>Food</td>\n",
       "      <td>USD</td>\n",
       "      <td>2014-01-17</td>\n",
       "      <td>30000.0</td>\n",
       "      <td>2013-12-18 03:26:04</td>\n",
       "      <td>5723.0</td>\n",
       "      <td>failed</td>\n",
       "      <td>90</td>\n",
       "      <td>US</td>\n",
       "      <td>5723.00</td>\n",
       "      <td>5723.00</td>\n",
       "      <td>30000.00</td>\n",
       "    </tr>\n",
       "    <tr>\n",
       "      <td>3</td>\n",
       "      <td>1225211551</td>\n",
       "      <td>Season's End - A horror novel ready for public...</td>\n",
       "      <td>Fiction</td>\n",
       "      <td>Publishing</td>\n",
       "      <td>GBP</td>\n",
       "      <td>2016-11-23</td>\n",
       "      <td>5500.0</td>\n",
       "      <td>2016-10-24 15:44:36</td>\n",
       "      <td>25.0</td>\n",
       "      <td>failed</td>\n",
       "      <td>2</td>\n",
       "      <td>GB</td>\n",
       "      <td>23.24</td>\n",
       "      <td>31.09</td>\n",
       "      <td>6839.01</td>\n",
       "    </tr>\n",
       "    <tr>\n",
       "      <td>4</td>\n",
       "      <td>2122944289</td>\n",
       "      <td>Colorado City Arizona Restaurant (Canceled)</td>\n",
       "      <td>Restaurants</td>\n",
       "      <td>Food</td>\n",
       "      <td>USD</td>\n",
       "      <td>2015-05-13</td>\n",
       "      <td>30000.0</td>\n",
       "      <td>2015-03-14 05:18:34</td>\n",
       "      <td>100.0</td>\n",
       "      <td>canceled</td>\n",
       "      <td>3</td>\n",
       "      <td>US</td>\n",
       "      <td>100.00</td>\n",
       "      <td>100.00</td>\n",
       "      <td>30000.00</td>\n",
       "    </tr>\n",
       "  </tbody>\n",
       "</table>\n",
       "</div>"
      ],
      "text/plain": [
       "           ID                                               name     category  \\\n",
       "0  1576537356                                               Deko     Hardware   \n",
       "1   675907016  Westside BJ's: The Gluten-Free, Organic Food T...  Food Trucks   \n",
       "2   361890770                              Crepe Diem Food Truck         Food   \n",
       "3  1225211551  Season's End - A horror novel ready for public...      Fiction   \n",
       "4  2122944289        Colorado City Arizona Restaurant (Canceled)  Restaurants   \n",
       "\n",
       "  main_category currency    deadline      goal             launched  pledged  \\\n",
       "0    Technology      USD  2015-10-24   70000.0  2015-09-24 03:12:52   1888.0   \n",
       "1          Food      USD  2015-02-01  250000.0  2015-01-02 20:55:07   1466.0   \n",
       "2          Food      USD  2014-01-17   30000.0  2013-12-18 03:26:04   5723.0   \n",
       "3    Publishing      GBP  2016-11-23    5500.0  2016-10-24 15:44:36     25.0   \n",
       "4          Food      USD  2015-05-13   30000.0  2015-03-14 05:18:34    100.0   \n",
       "\n",
       "      state  backers country  usd pledged  usd_pledged_real  usd_goal_real  \n",
       "0    failed       41      US      1888.00           1888.00       70000.00  \n",
       "1    failed        9      US      1466.00           1466.00      250000.00  \n",
       "2    failed       90      US      5723.00           5723.00       30000.00  \n",
       "3    failed        2      GB        23.24             31.09        6839.01  \n",
       "4  canceled        3      US       100.00            100.00       30000.00  "
      ]
     },
     "execution_count": 137,
     "metadata": {},
     "output_type": "execute_result"
    }
   ],
   "source": [
    "ks = pd.read_csv('../../../datasets/ks-projects-201801.csv')\n",
    "ks = ks.sample(30000, random_state=42).reset_index().drop('index', axis=1)  # ~10%\n",
    "ks.head(5)"
   ]
  },
  {
   "cell_type": "code",
   "execution_count": 138,
   "metadata": {},
   "outputs": [
    {
     "data": {
      "text/html": [
       "<div>\n",
       "<style scoped>\n",
       "    .dataframe tbody tr th:only-of-type {\n",
       "        vertical-align: middle;\n",
       "    }\n",
       "\n",
       "    .dataframe tbody tr th {\n",
       "        vertical-align: top;\n",
       "    }\n",
       "\n",
       "    .dataframe thead th {\n",
       "        text-align: right;\n",
       "    }\n",
       "</style>\n",
       "<table border=\"1\" class=\"dataframe\">\n",
       "  <thead>\n",
       "    <tr style=\"text-align: right;\">\n",
       "      <th></th>\n",
       "      <th>category</th>\n",
       "      <th>main_category</th>\n",
       "      <th>country</th>\n",
       "      <th>usd_goal_real</th>\n",
       "      <th>outcome</th>\n",
       "      <th>campaign_time_days</th>\n",
       "    </tr>\n",
       "  </thead>\n",
       "  <tbody>\n",
       "    <tr>\n",
       "      <td>0</td>\n",
       "      <td>Hardware</td>\n",
       "      <td>Technology</td>\n",
       "      <td>US</td>\n",
       "      <td>70000.00</td>\n",
       "      <td>0</td>\n",
       "      <td>29</td>\n",
       "    </tr>\n",
       "    <tr>\n",
       "      <td>1</td>\n",
       "      <td>Food Trucks</td>\n",
       "      <td>Food</td>\n",
       "      <td>US</td>\n",
       "      <td>250000.00</td>\n",
       "      <td>0</td>\n",
       "      <td>29</td>\n",
       "    </tr>\n",
       "    <tr>\n",
       "      <td>2</td>\n",
       "      <td>Food</td>\n",
       "      <td>Food</td>\n",
       "      <td>US</td>\n",
       "      <td>30000.00</td>\n",
       "      <td>0</td>\n",
       "      <td>29</td>\n",
       "    </tr>\n",
       "    <tr>\n",
       "      <td>3</td>\n",
       "      <td>Fiction</td>\n",
       "      <td>Publishing</td>\n",
       "      <td>GB</td>\n",
       "      <td>6839.01</td>\n",
       "      <td>0</td>\n",
       "      <td>29</td>\n",
       "    </tr>\n",
       "    <tr>\n",
       "      <td>4</td>\n",
       "      <td>Restaurants</td>\n",
       "      <td>Food</td>\n",
       "      <td>US</td>\n",
       "      <td>30000.00</td>\n",
       "      <td>0</td>\n",
       "      <td>59</td>\n",
       "    </tr>\n",
       "  </tbody>\n",
       "</table>\n",
       "</div>"
      ],
      "text/plain": [
       "      category main_category country  usd_goal_real  outcome  \\\n",
       "0     Hardware    Technology      US       70000.00        0   \n",
       "1  Food Trucks          Food      US      250000.00        0   \n",
       "2         Food          Food      US       30000.00        0   \n",
       "3      Fiction    Publishing      GB        6839.01        0   \n",
       "4  Restaurants          Food      US       30000.00        0   \n",
       "\n",
       "   campaign_time_days  \n",
       "0                  29  \n",
       "1                  29  \n",
       "2                  29  \n",
       "3                  29  \n",
       "4                  59  "
      ]
     },
     "execution_count": 138,
     "metadata": {},
     "output_type": "execute_result"
    }
   ],
   "source": [
    "ks = ks.query('state != \"live\"')  # drop rows with state=live\n",
    "ks = ks.assign(outcome=(ks['state'] == 'successful').astype(int))  # create new feature outcome (=1 if successful, otherwise =0)\n",
    "ks = ks.astype({'launched': 'datetime64', 'deadline': 'datetime64'})  # convert date columns to datetime\n",
    "ks = ks.assign(campaign_time_days=(ks.deadline - ks.launched).apply(lambda x: x.days))  # add new feature measuring time (in days) between launch and deadline\n",
    "cols2drop = ['ID', 'name', 'currency', 'goal', 'pledged', 'usd pledged', 'usd_pledged_real', 'backers', 'state', 'deadline', 'launched']\n",
    "ks.drop(cols2drop, axis=1, inplace=True)  # drop some columns \n",
    "\n",
    "ks.head(5)"
   ]
  },
  {
   "cell_type": "code",
   "execution_count": 100,
   "metadata": {},
   "outputs": [
    {
     "data": {
      "text/html": [
       "<div>\n",
       "<style scoped>\n",
       "    .dataframe tbody tr th:only-of-type {\n",
       "        vertical-align: middle;\n",
       "    }\n",
       "\n",
       "    .dataframe tbody tr th {\n",
       "        vertical-align: top;\n",
       "    }\n",
       "\n",
       "    .dataframe thead th {\n",
       "        text-align: right;\n",
       "    }\n",
       "</style>\n",
       "<table border=\"1\" class=\"dataframe\">\n",
       "  <thead>\n",
       "    <tr style=\"text-align: right;\">\n",
       "      <th></th>\n",
       "      <th>backers</th>\n",
       "      <th>usd_pledged_real</th>\n",
       "      <th>usd_goal_real</th>\n",
       "      <th>outcome</th>\n",
       "      <th>campaign_time_days</th>\n",
       "    </tr>\n",
       "    <tr>\n",
       "      <th>main_category</th>\n",
       "      <th></th>\n",
       "      <th></th>\n",
       "      <th></th>\n",
       "      <th></th>\n",
       "      <th></th>\n",
       "    </tr>\n",
       "  </thead>\n",
       "  <tbody>\n",
       "    <tr>\n",
       "      <td>Art</td>\n",
       "      <td>97933</td>\n",
       "      <td>6794287.74</td>\n",
       "      <td>6.287892e+07</td>\n",
       "      <td>912</td>\n",
       "      <td>70550</td>\n",
       "    </tr>\n",
       "    <tr>\n",
       "      <td>Comics</td>\n",
       "      <td>113493</td>\n",
       "      <td>5493018.60</td>\n",
       "      <td>9.011640e+06</td>\n",
       "      <td>475</td>\n",
       "      <td>29311</td>\n",
       "    </tr>\n",
       "    <tr>\n",
       "      <td>Crafts</td>\n",
       "      <td>15932</td>\n",
       "      <td>989147.81</td>\n",
       "      <td>5.904058e+06</td>\n",
       "      <td>158</td>\n",
       "      <td>20195</td>\n",
       "    </tr>\n",
       "    <tr>\n",
       "      <td>Dance</td>\n",
       "      <td>11256</td>\n",
       "      <td>885024.23</td>\n",
       "      <td>2.031316e+06</td>\n",
       "      <td>185</td>\n",
       "      <td>9518</td>\n",
       "    </tr>\n",
       "    <tr>\n",
       "      <td>Design</td>\n",
       "      <td>523046</td>\n",
       "      <td>45387486.20</td>\n",
       "      <td>6.437828e+07</td>\n",
       "      <td>831</td>\n",
       "      <td>90738</td>\n",
       "    </tr>\n",
       "    <tr>\n",
       "      <td>Fashion</td>\n",
       "      <td>89634</td>\n",
       "      <td>8377797.11</td>\n",
       "      <td>2.654044e+07</td>\n",
       "      <td>412</td>\n",
       "      <td>57641</td>\n",
       "    </tr>\n",
       "    <tr>\n",
       "      <td>Film &amp; Video</td>\n",
       "      <td>380201</td>\n",
       "      <td>33749094.03</td>\n",
       "      <td>2.079742e+08</td>\n",
       "      <td>1928</td>\n",
       "      <td>169376</td>\n",
       "    </tr>\n",
       "    <tr>\n",
       "      <td>Food</td>\n",
       "      <td>112479</td>\n",
       "      <td>10517111.94</td>\n",
       "      <td>6.123226e+07</td>\n",
       "      <td>519</td>\n",
       "      <td>64906</td>\n",
       "    </tr>\n",
       "    <tr>\n",
       "      <td>Games</td>\n",
       "      <td>1015228</td>\n",
       "      <td>67855924.31</td>\n",
       "      <td>2.287073e+08</td>\n",
       "      <td>1012</td>\n",
       "      <td>88485</td>\n",
       "    </tr>\n",
       "    <tr>\n",
       "      <td>Journalism</td>\n",
       "      <td>11630</td>\n",
       "      <td>704825.95</td>\n",
       "      <td>8.604717e+06</td>\n",
       "      <td>68</td>\n",
       "      <td>12491</td>\n",
       "    </tr>\n",
       "    <tr>\n",
       "      <td>Music</td>\n",
       "      <td>200386</td>\n",
       "      <td>14746569.79</td>\n",
       "      <td>4.656364e+07</td>\n",
       "      <td>1885</td>\n",
       "      <td>137211</td>\n",
       "    </tr>\n",
       "    <tr>\n",
       "      <td>Photography</td>\n",
       "      <td>35859</td>\n",
       "      <td>3201659.54</td>\n",
       "      <td>8.416388e+06</td>\n",
       "      <td>244</td>\n",
       "      <td>27066</td>\n",
       "    </tr>\n",
       "    <tr>\n",
       "      <td>Publishing</td>\n",
       "      <td>171359</td>\n",
       "      <td>10341507.96</td>\n",
       "      <td>4.927287e+07</td>\n",
       "      <td>1021</td>\n",
       "      <td>105624</td>\n",
       "    </tr>\n",
       "    <tr>\n",
       "      <td>Technology</td>\n",
       "      <td>393936</td>\n",
       "      <td>46704488.23</td>\n",
       "      <td>4.692567e+08</td>\n",
       "      <td>525</td>\n",
       "      <td>88374</td>\n",
       "    </tr>\n",
       "    <tr>\n",
       "      <td>Theater</td>\n",
       "      <td>40620</td>\n",
       "      <td>3509444.78</td>\n",
       "      <td>7.723321e+06</td>\n",
       "      <td>516</td>\n",
       "      <td>29959</td>\n",
       "    </tr>\n",
       "  </tbody>\n",
       "</table>\n",
       "</div>"
      ],
      "text/plain": [
       "               backers  usd_pledged_real  usd_goal_real  outcome  \\\n",
       "main_category                                                      \n",
       "Art              97933        6794287.74   6.287892e+07      912   \n",
       "Comics          113493        5493018.60   9.011640e+06      475   \n",
       "Crafts           15932         989147.81   5.904058e+06      158   \n",
       "Dance            11256         885024.23   2.031316e+06      185   \n",
       "Design          523046       45387486.20   6.437828e+07      831   \n",
       "Fashion          89634        8377797.11   2.654044e+07      412   \n",
       "Film & Video    380201       33749094.03   2.079742e+08     1928   \n",
       "Food            112479       10517111.94   6.123226e+07      519   \n",
       "Games          1015228       67855924.31   2.287073e+08     1012   \n",
       "Journalism       11630         704825.95   8.604717e+06       68   \n",
       "Music           200386       14746569.79   4.656364e+07     1885   \n",
       "Photography      35859        3201659.54   8.416388e+06      244   \n",
       "Publishing      171359       10341507.96   4.927287e+07     1021   \n",
       "Technology      393936       46704488.23   4.692567e+08      525   \n",
       "Theater          40620        3509444.78   7.723321e+06      516   \n",
       "\n",
       "               campaign_time_days  \n",
       "main_category                      \n",
       "Art                         70550  \n",
       "Comics                      29311  \n",
       "Crafts                      20195  \n",
       "Dance                        9518  \n",
       "Design                      90738  \n",
       "Fashion                     57641  \n",
       "Film & Video               169376  \n",
       "Food                        64906  \n",
       "Games                       88485  \n",
       "Journalism                  12491  \n",
       "Music                      137211  \n",
       "Photography                 27066  \n",
       "Publishing                 105624  \n",
       "Technology                  88374  \n",
       "Theater                     29959  "
      ]
     },
     "execution_count": 100,
     "metadata": {},
     "output_type": "execute_result"
    }
   ],
   "source": [
    "ks.groupby('main_category').sum()"
   ]
  },
  {
   "cell_type": "code",
   "execution_count": 101,
   "metadata": {},
   "outputs": [
    {
     "name": "stdout",
     "output_type": "stream",
     "text": [
      "Dataset Shape: (29810, 10)\n"
     ]
    },
    {
     "data": {
      "text/html": [
       "<div>\n",
       "<style scoped>\n",
       "    .dataframe tbody tr th:only-of-type {\n",
       "        vertical-align: middle;\n",
       "    }\n",
       "\n",
       "    .dataframe tbody tr th {\n",
       "        vertical-align: top;\n",
       "    }\n",
       "\n",
       "    .dataframe thead th {\n",
       "        text-align: right;\n",
       "    }\n",
       "</style>\n",
       "<table border=\"1\" class=\"dataframe\">\n",
       "  <thead>\n",
       "    <tr style=\"text-align: right;\">\n",
       "      <th></th>\n",
       "      <th>Name</th>\n",
       "      <th>dtypes</th>\n",
       "      <th>Missing</th>\n",
       "      <th>Uniques</th>\n",
       "      <th>First Value</th>\n",
       "      <th>Second Value</th>\n",
       "      <th>Third Value</th>\n",
       "      <th>Entropy</th>\n",
       "    </tr>\n",
       "  </thead>\n",
       "  <tbody>\n",
       "    <tr>\n",
       "      <td>0</td>\n",
       "      <td>category</td>\n",
       "      <td>object</td>\n",
       "      <td>0</td>\n",
       "      <td>158</td>\n",
       "      <td>Hardware</td>\n",
       "      <td>Food Trucks</td>\n",
       "      <td>Food</td>\n",
       "      <td>6.26</td>\n",
       "    </tr>\n",
       "    <tr>\n",
       "      <td>1</td>\n",
       "      <td>main_category</td>\n",
       "      <td>object</td>\n",
       "      <td>0</td>\n",
       "      <td>15</td>\n",
       "      <td>Technology</td>\n",
       "      <td>Food</td>\n",
       "      <td>Food</td>\n",
       "      <td>3.57</td>\n",
       "    </tr>\n",
       "    <tr>\n",
       "      <td>2</td>\n",
       "      <td>deadline</td>\n",
       "      <td>datetime64[ns]</td>\n",
       "      <td>0</td>\n",
       "      <td>2886</td>\n",
       "      <td>2015-10-24 00:00:00</td>\n",
       "      <td>2015-02-01 00:00:00</td>\n",
       "      <td>2014-01-17 00:00:00</td>\n",
       "      <td>11.21</td>\n",
       "    </tr>\n",
       "    <tr>\n",
       "      <td>3</td>\n",
       "      <td>launched</td>\n",
       "      <td>datetime64[ns]</td>\n",
       "      <td>0</td>\n",
       "      <td>29807</td>\n",
       "      <td>2015-09-24 03:12:52</td>\n",
       "      <td>2015-01-02 20:55:07</td>\n",
       "      <td>2013-12-18 03:26:04</td>\n",
       "      <td>14.86</td>\n",
       "    </tr>\n",
       "    <tr>\n",
       "      <td>4</td>\n",
       "      <td>backers</td>\n",
       "      <td>int64</td>\n",
       "      <td>0</td>\n",
       "      <td>1220</td>\n",
       "      <td>41</td>\n",
       "      <td>9</td>\n",
       "      <td>90</td>\n",
       "      <td>6.58</td>\n",
       "    </tr>\n",
       "    <tr>\n",
       "      <td>5</td>\n",
       "      <td>country</td>\n",
       "      <td>object</td>\n",
       "      <td>0</td>\n",
       "      <td>23</td>\n",
       "      <td>US</td>\n",
       "      <td>US</td>\n",
       "      <td>US</td>\n",
       "      <td>1.46</td>\n",
       "    </tr>\n",
       "    <tr>\n",
       "      <td>6</td>\n",
       "      <td>usd_pledged_real</td>\n",
       "      <td>float64</td>\n",
       "      <td>0</td>\n",
       "      <td>13973</td>\n",
       "      <td>1888</td>\n",
       "      <td>1466</td>\n",
       "      <td>5723</td>\n",
       "      <td>11.42</td>\n",
       "    </tr>\n",
       "    <tr>\n",
       "      <td>7</td>\n",
       "      <td>usd_goal_real</td>\n",
       "      <td>float64</td>\n",
       "      <td>0</td>\n",
       "      <td>7166</td>\n",
       "      <td>70000</td>\n",
       "      <td>250000</td>\n",
       "      <td>30000</td>\n",
       "      <td>8.54</td>\n",
       "    </tr>\n",
       "    <tr>\n",
       "      <td>8</td>\n",
       "      <td>outcome</td>\n",
       "      <td>int64</td>\n",
       "      <td>0</td>\n",
       "      <td>2</td>\n",
       "      <td>0</td>\n",
       "      <td>0</td>\n",
       "      <td>0</td>\n",
       "      <td>0.94</td>\n",
       "    </tr>\n",
       "    <tr>\n",
       "      <td>9</td>\n",
       "      <td>campaign_time_days</td>\n",
       "      <td>int64</td>\n",
       "      <td>0</td>\n",
       "      <td>92</td>\n",
       "      <td>29</td>\n",
       "      <td>29</td>\n",
       "      <td>29</td>\n",
       "      <td>3.80</td>\n",
       "    </tr>\n",
       "  </tbody>\n",
       "</table>\n",
       "</div>"
      ],
      "text/plain": [
       "                 Name          dtypes  Missing  Uniques          First Value  \\\n",
       "0            category          object        0      158             Hardware   \n",
       "1       main_category          object        0       15           Technology   \n",
       "2            deadline  datetime64[ns]        0     2886  2015-10-24 00:00:00   \n",
       "3            launched  datetime64[ns]        0    29807  2015-09-24 03:12:52   \n",
       "4             backers           int64        0     1220                   41   \n",
       "5             country          object        0       23                   US   \n",
       "6    usd_pledged_real         float64        0    13973                 1888   \n",
       "7       usd_goal_real         float64        0     7166                70000   \n",
       "8             outcome           int64        0        2                    0   \n",
       "9  campaign_time_days           int64        0       92                   29   \n",
       "\n",
       "          Second Value          Third Value  Entropy  \n",
       "0          Food Trucks                 Food     6.26  \n",
       "1                 Food                 Food     3.57  \n",
       "2  2015-02-01 00:00:00  2014-01-17 00:00:00    11.21  \n",
       "3  2015-01-02 20:55:07  2013-12-18 03:26:04    14.86  \n",
       "4                    9                   90     6.58  \n",
       "5                   US                   US     1.46  \n",
       "6                 1466                 5723    11.42  \n",
       "7               250000                30000     8.54  \n",
       "8                    0                    0     0.94  \n",
       "9                   29                   29     3.80  "
      ]
     },
     "execution_count": 101,
     "metadata": {},
     "output_type": "execute_result"
    }
   ],
   "source": [
    "resumetable(ks)"
   ]
  },
  {
   "cell_type": "markdown",
   "metadata": {},
   "source": [
    "## Vamos ver a distribuição de cada um dos atributos para com o resultado final (`outcome`)"
   ]
  },
  {
   "cell_type": "code",
   "execution_count": 102,
   "metadata": {},
   "outputs": [
    {
     "data": {
      "text/plain": [
       "<seaborn.axisgrid.FacetGrid at 0x7f848ff2bbd0>"
      ]
     },
     "execution_count": 102,
     "metadata": {},
     "output_type": "execute_result"
    },
    {
     "data": {
      "image/png": "[encoded data removed]",
      "text/plain": [
       "<Figure size 411.5x360 with 1 Axes>"
      ]
     },
     "metadata": {
      "needs_background": "light"
     },
     "output_type": "display_data"
    }
   ],
   "source": [
    "import seaborn as sns\n",
    "sns.catplot(x='main_category', y='campaign_time_days', hue='outcome', data=ks)"
   ]
  },
  {
   "cell_type": "code",
   "execution_count": 103,
   "metadata": {},
   "outputs": [
    {
     "data": {
      "text/plain": [
       "<matplotlib.axes._subplots.AxesSubplot at 0x7f848fe24850>"
      ]
     },
     "execution_count": 103,
     "metadata": {},
     "output_type": "execute_result"
    },
    {
     "data": {
      "image/png": "[encoded data removed]",
      "text/plain": [
       "<Figure size 432x288 with 1 Axes>"
      ]
     },
     "metadata": {
      "needs_background": "light"
     },
     "output_type": "display_data"
    }
   ],
   "source": [
    "sns.boxplot(ks.campaign_time_days)"
   ]
  },
  {
   "cell_type": "code",
   "execution_count": 106,
   "metadata": {},
   "outputs": [
    {
     "name": "stdout",
     "output_type": "stream",
     "text": [
      "7.0\n",
      "Qtd. de outliers: 4017 \n",
      "Qtd. de outliers: 25793 \n"
     ]
    }
   ],
   "source": [
    "Q1 = ks.campaign_time_days.quantile(0.25)\n",
    "Q3 = ks.campaign_time_days.quantile(0.75)\n",
    "IQR = Q3 - Q1\n",
    "highest = Q3 + 1.5 * IQR\n",
    "print(IQR)\n",
    "print(f\"Qtd. de potenciais outliers: {(ks.campaign_time_days > highest).sum()} \")\n",
    "print(f\"Qtd. de potenciais outliers: {(ks.campaign_time_days <= highest).sum()} \")"
   ]
  },
  {
   "cell_type": "code",
   "execution_count": 110,
   "metadata": {},
   "outputs": [],
   "source": [
    "ks_ctd_clean = ks[ks.campaign_time_days <= highest]  # kickstarter wo/ the potential outliers for campaign time"
   ]
  },
  {
   "cell_type": "code",
   "execution_count": 119,
   "metadata": {},
   "outputs": [
    {
     "data": {
      "text/plain": [
       "<seaborn.axisgrid.FacetGrid at 0x7f848c216150>"
      ]
     },
     "execution_count": 119,
     "metadata": {},
     "output_type": "execute_result"
    },
    {
     "data": {
      "image/png": "[encoded data removed]",
      "text/plain": [
       "<Figure size 360x360 with 1 Axes>"
      ]
     },
     "metadata": {
      "needs_background": "light"
     },
     "output_type": "display_data"
    }
   ],
   "source": [
    "sns.catplot(x='outcome', y='campaign_time_days', kind='violin', data=ks_ctd_clean)"
   ]
  },
  {
   "cell_type": "markdown",
   "metadata": {},
   "source": [
    "- Ao que parece, o tempo de campanha tem uma distribuição semelhante entre os `outcome`s."
   ]
  },
  {
   "cell_type": "code",
   "execution_count": 121,
   "metadata": {},
   "outputs": [
    {
     "data": {
      "text/plain": [
       "<seaborn.axisgrid.FacetGrid at 0x7f8490f06890>"
      ]
     },
     "execution_count": 121,
     "metadata": {},
     "output_type": "execute_result"
    },
    {
     "data": {
      "image/png": "[encoded data removed]",
      "text/plain": [
       "<Figure size 411.5x360 with 1 Axes>"
      ]
     },
     "metadata": {
      "needs_background": "light"
     },
     "output_type": "display_data"
    }
   ],
   "source": [
    "sns.catplot(x='campaign_time_days', y='main_category', hue='outcome', data=ks_ctd_clean)"
   ]
  },
  {
   "cell_type": "code",
   "execution_count": 123,
   "metadata": {},
   "outputs": [
    {
     "name": "stdout",
     "output_type": "stream",
     "text": [
      "Dataset Shape: (25793, 10)\n"
     ]
    },
    {
     "data": {
      "text/html": [
       "<div>\n",
       "<style scoped>\n",
       "    .dataframe tbody tr th:only-of-type {\n",
       "        vertical-align: middle;\n",
       "    }\n",
       "\n",
       "    .dataframe tbody tr th {\n",
       "        vertical-align: top;\n",
       "    }\n",
       "\n",
       "    .dataframe thead th {\n",
       "        text-align: right;\n",
       "    }\n",
       "</style>\n",
       "<table border=\"1\" class=\"dataframe\">\n",
       "  <thead>\n",
       "    <tr style=\"text-align: right;\">\n",
       "      <th></th>\n",
       "      <th>Name</th>\n",
       "      <th>dtypes</th>\n",
       "      <th>Missing</th>\n",
       "      <th>Uniques</th>\n",
       "      <th>First Value</th>\n",
       "      <th>Second Value</th>\n",
       "      <th>Third Value</th>\n",
       "      <th>Entropy</th>\n",
       "    </tr>\n",
       "  </thead>\n",
       "  <tbody>\n",
       "    <tr>\n",
       "      <td>0</td>\n",
       "      <td>category</td>\n",
       "      <td>object</td>\n",
       "      <td>0</td>\n",
       "      <td>158</td>\n",
       "      <td>Hardware</td>\n",
       "      <td>Food Trucks</td>\n",
       "      <td>Food</td>\n",
       "      <td>6.26</td>\n",
       "    </tr>\n",
       "    <tr>\n",
       "      <td>1</td>\n",
       "      <td>main_category</td>\n",
       "      <td>object</td>\n",
       "      <td>0</td>\n",
       "      <td>15</td>\n",
       "      <td>Technology</td>\n",
       "      <td>Food</td>\n",
       "      <td>Food</td>\n",
       "      <td>3.58</td>\n",
       "    </tr>\n",
       "    <tr>\n",
       "      <td>2</td>\n",
       "      <td>deadline</td>\n",
       "      <td>datetime64[ns]</td>\n",
       "      <td>0</td>\n",
       "      <td>2800</td>\n",
       "      <td>2015-10-24 00:00:00</td>\n",
       "      <td>2015-02-01 00:00:00</td>\n",
       "      <td>2014-01-17 00:00:00</td>\n",
       "      <td>11.15</td>\n",
       "    </tr>\n",
       "    <tr>\n",
       "      <td>3</td>\n",
       "      <td>launched</td>\n",
       "      <td>datetime64[ns]</td>\n",
       "      <td>0</td>\n",
       "      <td>25791</td>\n",
       "      <td>2015-09-24 03:12:52</td>\n",
       "      <td>2015-01-02 20:55:07</td>\n",
       "      <td>2013-12-18 03:26:04</td>\n",
       "      <td>14.65</td>\n",
       "    </tr>\n",
       "    <tr>\n",
       "      <td>4</td>\n",
       "      <td>backers</td>\n",
       "      <td>int64</td>\n",
       "      <td>0</td>\n",
       "      <td>1176</td>\n",
       "      <td>41</td>\n",
       "      <td>9</td>\n",
       "      <td>90</td>\n",
       "      <td>6.70</td>\n",
       "    </tr>\n",
       "    <tr>\n",
       "      <td>5</td>\n",
       "      <td>country</td>\n",
       "      <td>object</td>\n",
       "      <td>0</td>\n",
       "      <td>23</td>\n",
       "      <td>US</td>\n",
       "      <td>US</td>\n",
       "      <td>US</td>\n",
       "      <td>1.47</td>\n",
       "    </tr>\n",
       "    <tr>\n",
       "      <td>6</td>\n",
       "      <td>usd_pledged_real</td>\n",
       "      <td>float64</td>\n",
       "      <td>0</td>\n",
       "      <td>12741</td>\n",
       "      <td>1888</td>\n",
       "      <td>1466</td>\n",
       "      <td>5723</td>\n",
       "      <td>11.48</td>\n",
       "    </tr>\n",
       "    <tr>\n",
       "      <td>7</td>\n",
       "      <td>usd_goal_real</td>\n",
       "      <td>float64</td>\n",
       "      <td>0</td>\n",
       "      <td>6398</td>\n",
       "      <td>70000</td>\n",
       "      <td>250000</td>\n",
       "      <td>30000</td>\n",
       "      <td>8.54</td>\n",
       "    </tr>\n",
       "    <tr>\n",
       "      <td>8</td>\n",
       "      <td>outcome</td>\n",
       "      <td>int64</td>\n",
       "      <td>0</td>\n",
       "      <td>2</td>\n",
       "      <td>0</td>\n",
       "      <td>0</td>\n",
       "      <td>0</td>\n",
       "      <td>0.96</td>\n",
       "    </tr>\n",
       "    <tr>\n",
       "      <td>9</td>\n",
       "      <td>campaign_time_days</td>\n",
       "      <td>int64</td>\n",
       "      <td>0</td>\n",
       "      <td>47</td>\n",
       "      <td>29</td>\n",
       "      <td>29</td>\n",
       "      <td>29</td>\n",
       "      <td>3.34</td>\n",
       "    </tr>\n",
       "  </tbody>\n",
       "</table>\n",
       "</div>"
      ],
      "text/plain": [
       "                 Name          dtypes  Missing  Uniques          First Value  \\\n",
       "0            category          object        0      158             Hardware   \n",
       "1       main_category          object        0       15           Technology   \n",
       "2            deadline  datetime64[ns]        0     2800  2015-10-24 00:00:00   \n",
       "3            launched  datetime64[ns]        0    25791  2015-09-24 03:12:52   \n",
       "4             backers           int64        0     1176                   41   \n",
       "5             country          object        0       23                   US   \n",
       "6    usd_pledged_real         float64        0    12741                 1888   \n",
       "7       usd_goal_real         float64        0     6398                70000   \n",
       "8             outcome           int64        0        2                    0   \n",
       "9  campaign_time_days           int64        0       47                   29   \n",
       "\n",
       "          Second Value          Third Value  Entropy  \n",
       "0          Food Trucks                 Food     6.26  \n",
       "1                 Food                 Food     3.58  \n",
       "2  2015-02-01 00:00:00  2014-01-17 00:00:00    11.15  \n",
       "3  2015-01-02 20:55:07  2013-12-18 03:26:04    14.65  \n",
       "4                    9                   90     6.70  \n",
       "5                   US                   US     1.47  \n",
       "6                 1466                 5723    11.48  \n",
       "7               250000                30000     8.54  \n",
       "8                    0                    0     0.96  \n",
       "9                   29                   29     3.34  "
      ]
     },
     "execution_count": 123,
     "metadata": {},
     "output_type": "execute_result"
    }
   ],
   "source": [
    "resumetable(ks_ctd_clean)"
   ]
  },
  {
   "cell_type": "code",
   "execution_count": 131,
   "metadata": {},
   "outputs": [
    {
     "data": {
      "text/plain": [
       "<seaborn.axisgrid.FacetGrid at 0x7f848b737ad0>"
      ]
     },
     "execution_count": 131,
     "metadata": {},
     "output_type": "execute_result"
    },
    {
     "data": {
      "image/png": "[encoded data removed]",
      "text/plain": [
       "<Figure size 720x540 with 15 Axes>"
      ]
     },
     "metadata": {
      "needs_background": "light"
     },
     "output_type": "display_data"
    }
   ],
   "source": [
    "sns.catplot(x='outcome', col='main_category', col_wrap=5,\n",
    "            data=ks_ctd_clean, kind='count', height=2.5, aspect=.8)"
   ]
  },
  {
   "cell_type": "markdown",
   "metadata": {},
   "source": []
  }
 ],
 "metadata": {
  "kernelspec": {
   "display_name": "Python 3",
   "language": "python",
   "name": "python3"
  },
  "language_info": {
   "codemirror_mode": {
    "name": "ipython",
    "version": 3
   },
   "file_extension": ".py",
   "mimetype": "text/x-python",
   "name": "python",
   "nbconvert_exporter": "python",
   "pygments_lexer": "ipython3",
   "version": "3.7.6"
  }
 },
 "nbformat": 4,
 "nbformat_minor": 4
}
