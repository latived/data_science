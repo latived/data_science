{
 "cells": [
  {
   "cell_type": "markdown",
   "metadata": {},
   "source": [
    "Source: https://www.kaggle.com/kabure/kickstarter-projects-eda-stat-tests-pipeline"
   ]
  },
  {
   "cell_type": "code",
   "execution_count": 1,
   "metadata": {},
   "outputs": [
    {
     "data": {
      "text/html": [
       "        <script type=\"text/javascript\">\n",
       "        window.PlotlyConfig = {MathJaxConfig: 'local'};\n",
       "        if (window.MathJax) {MathJax.Hub.Config({SVG: {font: \"STIX-Web\"}});}\n",
       "        if (typeof require !== 'undefined') {\n",
       "        require.undef(\"plotly\");\n",
       "        requirejs.config({\n",
       "            paths: {\n",
       "                'plotly': ['https://cdn.plot.ly/plotly-latest.min']\n",
       "            }\n",
       "        });\n",
       "        require(['plotly'], function(Plotly) {\n",
       "            window._Plotly = Plotly;\n",
       "        });\n",
       "        }\n",
       "        </script>\n",
       "        "
      ]
     },
     "metadata": {},
     "output_type": "display_data"
    }
   ],
   "source": [
    "#Load the Librarys\n",
    "import pandas as pd\n",
    "import numpy as np\n",
    "import seaborn as sns\n",
    "import matplotlib.pyplot as plt\n",
    "from scipy import stats\n",
    "\n",
    "import plotly\n",
    "import plotly.tools as tls\n",
    "import plotly.offline as py\n",
    "import plotly.graph_objs as go\n",
    "from plotly.offline import init_notebook_mode, iplot, plot\n",
    "init_notebook_mode(connected=True)\n",
    "\n",
    "import warnings\n",
    "from collections import Counter\n",
    "\n",
    "%load_ext autoreload\n",
    "%autoreload 2"
   ]
  },
  {
   "cell_type": "code",
   "execution_count": 2,
   "metadata": {},
   "outputs": [],
   "source": [
    "ks = pd.read_csv('../../../datasets/ks-projects-201801.csv')\n",
    "ks = ks.sample(1000, random_state=42).reset_index().drop('index', axis=1)"
   ]
  },
  {
   "cell_type": "code",
   "execution_count": 3,
   "metadata": {},
   "outputs": [
    {
     "name": "stdout",
     "output_type": "stream",
     "text": [
      "Dataset Shape: (1000, 15)\n"
     ]
    },
    {
     "data": {
      "text/html": [
       "<div>\n",
       "<style scoped>\n",
       "    .dataframe tbody tr th:only-of-type {\n",
       "        vertical-align: middle;\n",
       "    }\n",
       "\n",
       "    .dataframe tbody tr th {\n",
       "        vertical-align: top;\n",
       "    }\n",
       "\n",
       "    .dataframe thead th {\n",
       "        text-align: right;\n",
       "    }\n",
       "</style>\n",
       "<table border=\"1\" class=\"dataframe\">\n",
       "  <thead>\n",
       "    <tr style=\"text-align: right;\">\n",
       "      <th></th>\n",
       "      <th>Name</th>\n",
       "      <th>dtypes</th>\n",
       "      <th>Missing</th>\n",
       "      <th>Uniques</th>\n",
       "      <th>First Value</th>\n",
       "      <th>Second Value</th>\n",
       "      <th>Third Value</th>\n",
       "      <th>Entropy</th>\n",
       "    </tr>\n",
       "  </thead>\n",
       "  <tbody>\n",
       "    <tr>\n",
       "      <td>0</td>\n",
       "      <td>ID</td>\n",
       "      <td>int64</td>\n",
       "      <td>0</td>\n",
       "      <td>1000</td>\n",
       "      <td>1576537356</td>\n",
       "      <td>675907016</td>\n",
       "      <td>361890770</td>\n",
       "      <td>9.97</td>\n",
       "    </tr>\n",
       "    <tr>\n",
       "      <td>1</td>\n",
       "      <td>name</td>\n",
       "      <td>object</td>\n",
       "      <td>0</td>\n",
       "      <td>1000</td>\n",
       "      <td>Deko</td>\n",
       "      <td>Westside BJ's: The Gluten-Free, Organic Food T...</td>\n",
       "      <td>Crepe Diem Food Truck</td>\n",
       "      <td>9.97</td>\n",
       "    </tr>\n",
       "    <tr>\n",
       "      <td>2</td>\n",
       "      <td>category</td>\n",
       "      <td>object</td>\n",
       "      <td>0</td>\n",
       "      <td>119</td>\n",
       "      <td>Hardware</td>\n",
       "      <td>Food Trucks</td>\n",
       "      <td>Food</td>\n",
       "      <td>6.12</td>\n",
       "    </tr>\n",
       "    <tr>\n",
       "      <td>3</td>\n",
       "      <td>main_category</td>\n",
       "      <td>object</td>\n",
       "      <td>0</td>\n",
       "      <td>15</td>\n",
       "      <td>Technology</td>\n",
       "      <td>Food</td>\n",
       "      <td>Food</td>\n",
       "      <td>3.53</td>\n",
       "    </tr>\n",
       "    <tr>\n",
       "      <td>4</td>\n",
       "      <td>currency</td>\n",
       "      <td>object</td>\n",
       "      <td>0</td>\n",
       "      <td>11</td>\n",
       "      <td>USD</td>\n",
       "      <td>USD</td>\n",
       "      <td>USD</td>\n",
       "      <td>1.20</td>\n",
       "    </tr>\n",
       "    <tr>\n",
       "      <td>5</td>\n",
       "      <td>deadline</td>\n",
       "      <td>object</td>\n",
       "      <td>0</td>\n",
       "      <td>819</td>\n",
       "      <td>2015-10-24</td>\n",
       "      <td>2015-02-01</td>\n",
       "      <td>2014-01-17</td>\n",
       "      <td>9.59</td>\n",
       "    </tr>\n",
       "    <tr>\n",
       "      <td>6</td>\n",
       "      <td>goal</td>\n",
       "      <td>float64</td>\n",
       "      <td>0</td>\n",
       "      <td>203</td>\n",
       "      <td>70000</td>\n",
       "      <td>250000</td>\n",
       "      <td>30000</td>\n",
       "      <td>6.12</td>\n",
       "    </tr>\n",
       "    <tr>\n",
       "      <td>7</td>\n",
       "      <td>launched</td>\n",
       "      <td>object</td>\n",
       "      <td>0</td>\n",
       "      <td>1000</td>\n",
       "      <td>2015-09-24 03:12:52</td>\n",
       "      <td>2015-01-02 20:55:07</td>\n",
       "      <td>2013-12-18 03:26:04</td>\n",
       "      <td>9.97</td>\n",
       "    </tr>\n",
       "    <tr>\n",
       "      <td>8</td>\n",
       "      <td>pledged</td>\n",
       "      <td>float64</td>\n",
       "      <td>0</td>\n",
       "      <td>645</td>\n",
       "      <td>1888</td>\n",
       "      <td>1466</td>\n",
       "      <td>5723</td>\n",
       "      <td>8.14</td>\n",
       "    </tr>\n",
       "    <tr>\n",
       "      <td>9</td>\n",
       "      <td>state</td>\n",
       "      <td>object</td>\n",
       "      <td>0</td>\n",
       "      <td>6</td>\n",
       "      <td>failed</td>\n",
       "      <td>failed</td>\n",
       "      <td>failed</td>\n",
       "      <td>1.53</td>\n",
       "    </tr>\n",
       "    <tr>\n",
       "      <td>10</td>\n",
       "      <td>backers</td>\n",
       "      <td>int64</td>\n",
       "      <td>0</td>\n",
       "      <td>222</td>\n",
       "      <td>41</td>\n",
       "      <td>9</td>\n",
       "      <td>90</td>\n",
       "      <td>6.07</td>\n",
       "    </tr>\n",
       "    <tr>\n",
       "      <td>11</td>\n",
       "      <td>country</td>\n",
       "      <td>object</td>\n",
       "      <td>0</td>\n",
       "      <td>19</td>\n",
       "      <td>US</td>\n",
       "      <td>US</td>\n",
       "      <td>US</td>\n",
       "      <td>1.36</td>\n",
       "    </tr>\n",
       "    <tr>\n",
       "      <td>12</td>\n",
       "      <td>usd pledged</td>\n",
       "      <td>float64</td>\n",
       "      <td>5</td>\n",
       "      <td>665</td>\n",
       "      <td>1888</td>\n",
       "      <td>1466</td>\n",
       "      <td>5723</td>\n",
       "      <td>8.00</td>\n",
       "    </tr>\n",
       "    <tr>\n",
       "      <td>13</td>\n",
       "      <td>usd_pledged_real</td>\n",
       "      <td>float64</td>\n",
       "      <td>0</td>\n",
       "      <td>711</td>\n",
       "      <td>1888</td>\n",
       "      <td>1466</td>\n",
       "      <td>5723</td>\n",
       "      <td>8.38</td>\n",
       "    </tr>\n",
       "    <tr>\n",
       "      <td>14</td>\n",
       "      <td>usd_goal_real</td>\n",
       "      <td>float64</td>\n",
       "      <td>0</td>\n",
       "      <td>382</td>\n",
       "      <td>70000</td>\n",
       "      <td>250000</td>\n",
       "      <td>30000</td>\n",
       "      <td>7.12</td>\n",
       "    </tr>\n",
       "  </tbody>\n",
       "</table>\n",
       "</div>"
      ],
      "text/plain": [
       "                Name   dtypes  Missing  Uniques          First Value  \\\n",
       "0                 ID    int64        0     1000           1576537356   \n",
       "1               name   object        0     1000                 Deko   \n",
       "2           category   object        0      119             Hardware   \n",
       "3      main_category   object        0       15           Technology   \n",
       "4           currency   object        0       11                  USD   \n",
       "5           deadline   object        0      819           2015-10-24   \n",
       "6               goal  float64        0      203                70000   \n",
       "7           launched   object        0     1000  2015-09-24 03:12:52   \n",
       "8            pledged  float64        0      645                 1888   \n",
       "9              state   object        0        6               failed   \n",
       "10           backers    int64        0      222                   41   \n",
       "11           country   object        0       19                   US   \n",
       "12       usd pledged  float64        5      665                 1888   \n",
       "13  usd_pledged_real  float64        0      711                 1888   \n",
       "14     usd_goal_real  float64        0      382                70000   \n",
       "\n",
       "                                         Second Value            Third Value  \\\n",
       "0                                           675907016              361890770   \n",
       "1   Westside BJ's: The Gluten-Free, Organic Food T...  Crepe Diem Food Truck   \n",
       "2                                         Food Trucks                   Food   \n",
       "3                                                Food                   Food   \n",
       "4                                                 USD                    USD   \n",
       "5                                          2015-02-01             2014-01-17   \n",
       "6                                              250000                  30000   \n",
       "7                                 2015-01-02 20:55:07    2013-12-18 03:26:04   \n",
       "8                                                1466                   5723   \n",
       "9                                              failed                 failed   \n",
       "10                                                  9                     90   \n",
       "11                                                 US                     US   \n",
       "12                                               1466                   5723   \n",
       "13                                               1466                   5723   \n",
       "14                                             250000                  30000   \n",
       "\n",
       "    Entropy  \n",
       "0      9.97  \n",
       "1      9.97  \n",
       "2      6.12  \n",
       "3      3.53  \n",
       "4      1.20  \n",
       "5      9.59  \n",
       "6      6.12  \n",
       "7      9.97  \n",
       "8      8.14  \n",
       "9      1.53  \n",
       "10     6.07  \n",
       "11     1.36  \n",
       "12     8.00  \n",
       "13     8.38  \n",
       "14     7.12  "
      ]
     },
     "execution_count": 3,
     "metadata": {},
     "output_type": "execute_result"
    }
   ],
   "source": [
    "from utils import *\n",
    "resumetable(ks)"
   ]
  },
  {
   "cell_type": "code",
   "execution_count": 4,
   "metadata": {},
   "outputs": [
    {
     "data": {
      "text/html": [
       "<div>\n",
       "<style scoped>\n",
       "    .dataframe tbody tr th:only-of-type {\n",
       "        vertical-align: middle;\n",
       "    }\n",
       "\n",
       "    .dataframe tbody tr th {\n",
       "        vertical-align: top;\n",
       "    }\n",
       "\n",
       "    .dataframe thead th {\n",
       "        text-align: right;\n",
       "    }\n",
       "</style>\n",
       "<table border=\"1\" class=\"dataframe\">\n",
       "  <thead>\n",
       "    <tr style=\"text-align: right;\">\n",
       "      <th></th>\n",
       "      <th>ID</th>\n",
       "      <th>name</th>\n",
       "      <th>category</th>\n",
       "      <th>main_category</th>\n",
       "      <th>currency</th>\n",
       "      <th>deadline</th>\n",
       "      <th>goal</th>\n",
       "      <th>launched</th>\n",
       "      <th>pledged</th>\n",
       "      <th>state</th>\n",
       "      <th>backers</th>\n",
       "      <th>country</th>\n",
       "      <th>usd pledged</th>\n",
       "      <th>usd_pledged_real</th>\n",
       "      <th>usd_goal_real</th>\n",
       "    </tr>\n",
       "  </thead>\n",
       "  <tbody>\n",
       "    <tr>\n",
       "      <td>0</td>\n",
       "      <td>1576537356</td>\n",
       "      <td>Deko</td>\n",
       "      <td>Hardware</td>\n",
       "      <td>Technology</td>\n",
       "      <td>USD</td>\n",
       "      <td>2015-10-24</td>\n",
       "      <td>70000.0</td>\n",
       "      <td>2015-09-24 03:12:52</td>\n",
       "      <td>1888.0</td>\n",
       "      <td>failed</td>\n",
       "      <td>41</td>\n",
       "      <td>US</td>\n",
       "      <td>1888.00</td>\n",
       "      <td>1888.00</td>\n",
       "      <td>70000.00</td>\n",
       "    </tr>\n",
       "    <tr>\n",
       "      <td>1</td>\n",
       "      <td>675907016</td>\n",
       "      <td>Westside BJ's: The Gluten-Free, Organic Food T...</td>\n",
       "      <td>Food Trucks</td>\n",
       "      <td>Food</td>\n",
       "      <td>USD</td>\n",
       "      <td>2015-02-01</td>\n",
       "      <td>250000.0</td>\n",
       "      <td>2015-01-02 20:55:07</td>\n",
       "      <td>1466.0</td>\n",
       "      <td>failed</td>\n",
       "      <td>9</td>\n",
       "      <td>US</td>\n",
       "      <td>1466.00</td>\n",
       "      <td>1466.00</td>\n",
       "      <td>250000.00</td>\n",
       "    </tr>\n",
       "    <tr>\n",
       "      <td>2</td>\n",
       "      <td>361890770</td>\n",
       "      <td>Crepe Diem Food Truck</td>\n",
       "      <td>Food</td>\n",
       "      <td>Food</td>\n",
       "      <td>USD</td>\n",
       "      <td>2014-01-17</td>\n",
       "      <td>30000.0</td>\n",
       "      <td>2013-12-18 03:26:04</td>\n",
       "      <td>5723.0</td>\n",
       "      <td>failed</td>\n",
       "      <td>90</td>\n",
       "      <td>US</td>\n",
       "      <td>5723.00</td>\n",
       "      <td>5723.00</td>\n",
       "      <td>30000.00</td>\n",
       "    </tr>\n",
       "    <tr>\n",
       "      <td>3</td>\n",
       "      <td>1225211551</td>\n",
       "      <td>Season's End - A horror novel ready for public...</td>\n",
       "      <td>Fiction</td>\n",
       "      <td>Publishing</td>\n",
       "      <td>GBP</td>\n",
       "      <td>2016-11-23</td>\n",
       "      <td>5500.0</td>\n",
       "      <td>2016-10-24 15:44:36</td>\n",
       "      <td>25.0</td>\n",
       "      <td>failed</td>\n",
       "      <td>2</td>\n",
       "      <td>GB</td>\n",
       "      <td>23.24</td>\n",
       "      <td>31.09</td>\n",
       "      <td>6839.01</td>\n",
       "    </tr>\n",
       "    <tr>\n",
       "      <td>4</td>\n",
       "      <td>2122944289</td>\n",
       "      <td>Colorado City Arizona Restaurant (Canceled)</td>\n",
       "      <td>Restaurants</td>\n",
       "      <td>Food</td>\n",
       "      <td>USD</td>\n",
       "      <td>2015-05-13</td>\n",
       "      <td>30000.0</td>\n",
       "      <td>2015-03-14 05:18:34</td>\n",
       "      <td>100.0</td>\n",
       "      <td>canceled</td>\n",
       "      <td>3</td>\n",
       "      <td>US</td>\n",
       "      <td>100.00</td>\n",
       "      <td>100.00</td>\n",
       "      <td>30000.00</td>\n",
       "    </tr>\n",
       "  </tbody>\n",
       "</table>\n",
       "</div>"
      ],
      "text/plain": [
       "           ID                                               name     category  \\\n",
       "0  1576537356                                               Deko     Hardware   \n",
       "1   675907016  Westside BJ's: The Gluten-Free, Organic Food T...  Food Trucks   \n",
       "2   361890770                              Crepe Diem Food Truck         Food   \n",
       "3  1225211551  Season's End - A horror novel ready for public...      Fiction   \n",
       "4  2122944289        Colorado City Arizona Restaurant (Canceled)  Restaurants   \n",
       "\n",
       "  main_category currency    deadline      goal             launched  pledged  \\\n",
       "0    Technology      USD  2015-10-24   70000.0  2015-09-24 03:12:52   1888.0   \n",
       "1          Food      USD  2015-02-01  250000.0  2015-01-02 20:55:07   1466.0   \n",
       "2          Food      USD  2014-01-17   30000.0  2013-12-18 03:26:04   5723.0   \n",
       "3    Publishing      GBP  2016-11-23    5500.0  2016-10-24 15:44:36     25.0   \n",
       "4          Food      USD  2015-05-13   30000.0  2015-03-14 05:18:34    100.0   \n",
       "\n",
       "      state  backers country  usd pledged  usd_pledged_real  usd_goal_real  \n",
       "0    failed       41      US      1888.00           1888.00       70000.00  \n",
       "1    failed        9      US      1466.00           1466.00      250000.00  \n",
       "2    failed       90      US      5723.00           5723.00       30000.00  \n",
       "3    failed        2      GB        23.24             31.09        6839.01  \n",
       "4  canceled        3      US       100.00            100.00       30000.00  "
      ]
     },
     "execution_count": 4,
     "metadata": {},
     "output_type": "execute_result"
    }
   ],
   "source": [
    "ks.head()"
   ]
  },
  {
   "cell_type": "code",
   "execution_count": 20,
   "metadata": {},
   "outputs": [
    {
     "data": {
      "image/png": "[encoded data removed]",
      "text/plain": [
       "<Figure size 432x288 with 1 Axes>"
      ]
     },
     "metadata": {
      "needs_background": "light"
     },
     "output_type": "display_data"
    }
   ],
   "source": [
    "import matplotlib.pyplot as plt\n",
    "%matplotlib inline\n",
    "\n",
    "state = round(ks[\"state\"].value_counts() / len(ks[\"state\"]) * 100, 2)\n",
    "labels = list(state.index)\n",
    "values = list(state.values)\n",
    "\n",
    "plt.bar(values, labels, color=(0.2, 0.4, 0.6, 0.6))\n",
    "plt.show()"
   ]
  },
  {
   "cell_type": "code",
   "execution_count": 21,
   "metadata": {},
   "outputs": [
    {
     "data": {
      "text/plain": [
       "state\n",
       "canceled      109\n",
       "failed        512\n",
       "live            9\n",
       "successful    357\n",
       "suspended       8\n",
       "undefined       5\n",
       "Name: ID, dtype: int64"
      ]
     },
     "execution_count": 21,
     "metadata": {},
     "output_type": "execute_result"
    }
   ],
   "source": [
    "ks.groupby('state')['ID'].count()"
   ]
  },
  {
   "cell_type": "code",
   "execution_count": 22,
   "metadata": {},
   "outputs": [],
   "source": [
    "ks = ks.loc[ks['state'].isin(['failed','successful'])]"
   ]
  },
  {
   "cell_type": "code",
   "execution_count": 24,
   "metadata": {},
   "outputs": [
    {
     "data": {
      "text/plain": [
       "state\n",
       "failed        512\n",
       "successful    357\n",
       "Name: ID, dtype: int64"
      ]
     },
     "execution_count": 24,
     "metadata": {},
     "output_type": "execute_result"
    }
   ],
   "source": [
    "ks.groupby('state')['ID'].count()"
   ]
  },
  {
   "cell_type": "code",
   "execution_count": 26,
   "metadata": {},
   "outputs": [
    {
     "name": "stdout",
     "output_type": "stream",
     "text": [
      "(512, 15)\n",
      "(357, 15)\n"
     ]
    }
   ],
   "source": [
    "ks_failed = ks[ks.state == 'failed']\n",
    "ks_successful = ks[ks.state == 'successful']\n",
    "\n",
    "print(ks_failed.shape)\n",
    "print(ks_successful.shape)"
   ]
  },
  {
   "cell_type": "code",
   "execution_count": 30,
   "metadata": {},
   "outputs": [
    {
     "data": {
      "text/plain": [
       "<seaborn.axisgrid.PairGrid at 0x7f3029ac26d0>"
      ]
     },
     "execution_count": 30,
     "metadata": {},
     "output_type": "execute_result"
    },
    {
     "data": {
      "image/png": "[encoded data removed]",
      "text/plain": [
       "<Figure size 456.85x360 with 6 Axes>"
      ]
     },
     "metadata": {},
     "output_type": "display_data"
    }
   ],
   "source": [
    "import seaborn as sns\n",
    "sns.set(style='ticks')\n",
    "\n",
    "sns.pairplot(ks[['usd_pledged_real', 'usd_goal_real', 'state']], hue='state')"
   ]
  },
  {
   "cell_type": "code",
   "execution_count": 31,
   "metadata": {},
   "outputs": [
    {
     "data": {
      "text/plain": [
       "<matplotlib.axes._subplots.AxesSubplot at 0x7f301de646d0>"
      ]
     },
     "execution_count": 31,
     "metadata": {},
     "output_type": "execute_result"
    },
    {
     "data": {
      "image/png": "[encoded data removed]",
      "text/plain": [
       "<Figure size 432x288 with 1 Axes>"
      ]
     },
     "metadata": {},
     "output_type": "display_data"
    }
   ],
   "source": [
    "sns.boxplot(x=ks.usd_goal_real)"
   ]
  },
  {
   "cell_type": "code",
   "execution_count": 33,
   "metadata": {},
   "outputs": [
    {
     "name": "stdout",
     "output_type": "stream",
     "text": [
      "13000.0\n"
     ]
    }
   ],
   "source": [
    "Q1 = ks.usd_goal_real.quantile(0.25)\n",
    "Q3 = ks.usd_goal_real.quantile(0.75)\n",
    "IQR = Q3 - Q1\n",
    "print(IQR)\n",
    "\n",
    "ks = ks[ks.usd_goal_real < IQR]"
   ]
  },
  {
   "cell_type": "code",
   "execution_count": 34,
   "metadata": {},
   "outputs": [
    {
     "data": {
      "text/plain": [
       "<seaborn.axisgrid.PairGrid at 0x7f301ddd0b50>"
      ]
     },
     "execution_count": 34,
     "metadata": {},
     "output_type": "execute_result"
    },
    {
     "data": {
      "image/png": "[encoded data removed]",
      "text/plain": [
       "<Figure size 456.85x360 with 6 Axes>"
      ]
     },
     "metadata": {},
     "output_type": "display_data"
    }
   ],
   "source": [
    "sns.pairplot(ks[['usd_pledged_real', 'usd_goal_real', 'state']], hue='state')"
   ]
  },
  {
   "cell_type": "code",
   "execution_count": 35,
   "metadata": {},
   "outputs": [
    {
     "data": {
      "text/plain": [
       "<matplotlib.axes._subplots.AxesSubplot at 0x7f301dd3cb50>"
      ]
     },
     "execution_count": 35,
     "metadata": {},
     "output_type": "execute_result"
    },
    {
     "data": {
      "image/png": "[encoded data removed]",
      "text/plain": [
       "<Figure size 432x288 with 1 Axes>"
      ]
     },
     "metadata": {},
     "output_type": "display_data"
    }
   ],
   "source": [
    "sns.boxplot(x=ks.usd_pledged_real)"
   ]
  },
  {
   "cell_type": "code",
   "execution_count": 36,
   "metadata": {},
   "outputs": [
    {
     "name": "stdout",
     "output_type": "stream",
     "text": [
      "3671.7275\n"
     ]
    }
   ],
   "source": [
    "Q1 = ks.usd_pledged_real.quantile(0.25)\n",
    "Q3 = ks.usd_pledged_real.quantile(0.75)\n",
    "IQR = Q3 - Q1\n",
    "print(IQR)\n",
    "\n",
    "ks = ks[ks.usd_pledged_real < IQR]"
   ]
  },
  {
   "cell_type": "code",
   "execution_count": 37,
   "metadata": {},
   "outputs": [
    {
     "data": {
      "text/plain": [
       "<seaborn.axisgrid.PairGrid at 0x7f301db8add0>"
      ]
     },
     "execution_count": 37,
     "metadata": {},
     "output_type": "execute_result"
    },
    {
     "data": {
      "image/png": "[encoded data removed]",
      "text/plain": [
       "<Figure size 456.85x360 with 6 Axes>"
      ]
     },
     "metadata": {},
     "output_type": "display_data"
    }
   ],
   "source": [
    "sns.pairplot(ks[['usd_pledged_real', 'usd_goal_real', 'state']], hue='state')"
   ]
  }
 ],
 "metadata": {
  "kernelspec": {
   "display_name": "Python 3",
   "language": "python",
   "name": "python3"
  },
  "language_info": {
   "codemirror_mode": {
    "name": "ipython",
    "version": 3
   },
   "file_extension": ".py",
   "mimetype": "text/x-python",
   "name": "python",
   "nbconvert_exporter": "python",
   "pygments_lexer": "ipython3",
   "version": "3.7.6"
  }
 },
 "nbformat": 4,
 "nbformat_minor": 4
}
